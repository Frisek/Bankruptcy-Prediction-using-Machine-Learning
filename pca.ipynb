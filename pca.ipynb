{
 "cells": [
  {
   "cell_type": "markdown",
   "metadata": {},
   "source": [
    "##  Machine Learning \n",
    "### PCA"
   ]
  },
  {
   "cell_type": "code",
   "execution_count": 1,
   "metadata": {},
   "outputs": [],
   "source": [
    "import numpy as np\n",
    "import pandas as pd\n",
    "import matplotlib.pyplot as plt\n",
    "\n",
    "from sklearn.decomposition import PCA"
   ]
  },
  {
   "cell_type": "code",
   "execution_count": 2,
   "metadata": {},
   "outputs": [],
   "source": [
    "bankruptcy = pd.read_csv('../data/bankruptcy.csv', index_col='Company')"
   ]
  },
  {
   "cell_type": "code",
   "execution_count": 3,
   "metadata": {},
   "outputs": [],
   "source": [
    "features = bankruptcy.loc[:, bankruptcy.columns != 'Bankrupt']\n",
    "target =  bankruptcy.Bankrupt"
   ]
  },
  {
   "cell_type": "markdown",
   "metadata": {},
   "source": [
    "\n",
    "___"
   ]
  },
  {
   "cell_type": "markdown",
   "metadata": {},
   "source": [
    "Se crea el objeto con el numero de componentes que nos interese"
   ]
  },
  {
   "cell_type": "code",
   "execution_count": 4,
   "metadata": {},
   "outputs": [],
   "source": [
    "pca = PCA(n_components=5)"
   ]
  },
  {
   "cell_type": "code",
   "execution_count": 5,
   "metadata": {},
   "outputs": [],
   "source": [
    "pca = pca.fit(features)"
   ]
  },
  {
   "cell_type": "code",
   "execution_count": 6,
   "metadata": {},
   "outputs": [
    {
     "data": {
      "text/html": [
       "<div>\n",
       "<style scoped>\n",
       "    .dataframe tbody tr th:only-of-type {\n",
       "        vertical-align: middle;\n",
       "    }\n",
       "\n",
       "    .dataframe tbody tr th {\n",
       "        vertical-align: top;\n",
       "    }\n",
       "\n",
       "    .dataframe thead th {\n",
       "        text-align: right;\n",
       "    }\n",
       "</style>\n",
       "<table border=\"1\" class=\"dataframe\">\n",
       "  <thead>\n",
       "    <tr style=\"text-align: right;\">\n",
       "      <th></th>\n",
       "      <th>WC/TA</th>\n",
       "      <th>RE/TA</th>\n",
       "      <th>EBIT/TA</th>\n",
       "      <th>S/TA</th>\n",
       "      <th>BVE/BVL</th>\n",
       "    </tr>\n",
       "  </thead>\n",
       "  <tbody>\n",
       "    <tr>\n",
       "      <th>0</th>\n",
       "      <td>-0.128789</td>\n",
       "      <td>-0.976635</td>\n",
       "      <td>-0.165546</td>\n",
       "      <td>-0.046635</td>\n",
       "      <td>-0.004195</td>\n",
       "    </tr>\n",
       "    <tr>\n",
       "      <th>1</th>\n",
       "      <td>-0.795211</td>\n",
       "      <td>0.045336</td>\n",
       "      <td>0.189930</td>\n",
       "      <td>0.573826</td>\n",
       "      <td>-0.015316</td>\n",
       "    </tr>\n",
       "    <tr>\n",
       "      <th>2</th>\n",
       "      <td>0.513391</td>\n",
       "      <td>-0.058777</td>\n",
       "      <td>-0.280471</td>\n",
       "      <td>0.808893</td>\n",
       "      <td>-0.001641</td>\n",
       "    </tr>\n",
       "    <tr>\n",
       "      <th>3</th>\n",
       "      <td>0.295234</td>\n",
       "      <td>-0.201678</td>\n",
       "      <td>0.926050</td>\n",
       "      <td>0.119099</td>\n",
       "      <td>0.020222</td>\n",
       "    </tr>\n",
       "    <tr>\n",
       "      <th>4</th>\n",
       "      <td>-0.017854</td>\n",
       "      <td>0.000579</td>\n",
       "      <td>-0.016978</td>\n",
       "      <td>0.007515</td>\n",
       "      <td>0.999668</td>\n",
       "    </tr>\n",
       "  </tbody>\n",
       "</table>\n",
       "</div>"
      ],
      "text/plain": [
       "      WC/TA     RE/TA   EBIT/TA      S/TA   BVE/BVL\n",
       "0 -0.128789 -0.976635 -0.165546 -0.046635 -0.004195\n",
       "1 -0.795211  0.045336  0.189930  0.573826 -0.015316\n",
       "2  0.513391 -0.058777 -0.280471  0.808893 -0.001641\n",
       "3  0.295234 -0.201678  0.926050  0.119099  0.020222\n",
       "4 -0.017854  0.000579 -0.016978  0.007515  0.999668"
      ]
     },
     "execution_count": 6,
     "metadata": {},
     "output_type": "execute_result"
    }
   ],
   "source": [
    "# Las transformaciones lineales que representan las componentes\n",
    "pd.DataFrame(pca.components_, columns=features.columns)"
   ]
  },
  {
   "cell_type": "code",
   "execution_count": 7,
   "metadata": {},
   "outputs": [],
   "source": [
    "pc_labels = [f'pc{i+1}' for i in range(len(features.columns))]"
   ]
  },
  {
   "cell_type": "code",
   "execution_count": 8,
   "metadata": {},
   "outputs": [],
   "source": [
    "var_exp = pd.Series(pca.explained_variance_ratio_,\n",
    "                    index=pc_labels)"
   ]
  },
  {
   "cell_type": "markdown",
   "metadata": {},
   "source": [
    "Mostramos el porcentaje de varianza explicada por cada componente principal"
   ]
  },
  {
   "cell_type": "code",
   "execution_count": 9,
   "metadata": {},
   "outputs": [
    {
     "data": {
      "text/plain": [
       "<AxesSubplot:>"
      ]
     },
     "execution_count": 9,
     "metadata": {},
     "output_type": "execute_result"
    },
    {
     "data": {
      "image/png": "[encoded data removed]",
      "text/plain": [
       "<Figure size 432x288 with 1 Axes>"
      ]
     },
     "metadata": {
      "needs_background": "light"
     },
     "output_type": "display_data"
    }
   ],
   "source": [
    "var_exp.plot.bar()"
   ]
  },
  {
   "cell_type": "markdown",
   "metadata": {},
   "source": [
    "Al aplicar la transformación obtenemos una nueva representación a partir\n",
    "de las componentes principales"
   ]
  },
  {
   "cell_type": "code",
   "execution_count": 10,
   "metadata": {},
   "outputs": [
    {
     "data": {
      "text/html": [
       "<div>\n",
       "<style scoped>\n",
       "    .dataframe tbody tr th:only-of-type {\n",
       "        vertical-align: middle;\n",
       "    }\n",
       "\n",
       "    .dataframe tbody tr th {\n",
       "        vertical-align: top;\n",
       "    }\n",
       "\n",
       "    .dataframe thead th {\n",
       "        text-align: right;\n",
       "    }\n",
       "</style>\n",
       "<table border=\"1\" class=\"dataframe\">\n",
       "  <thead>\n",
       "    <tr style=\"text-align: right;\">\n",
       "      <th></th>\n",
       "      <th>pc1</th>\n",
       "      <th>pc2</th>\n",
       "      <th>pc3</th>\n",
       "      <th>pc4</th>\n",
       "      <th>pc5</th>\n",
       "    </tr>\n",
       "  </thead>\n",
       "  <tbody>\n",
       "    <tr>\n",
       "      <th>0</th>\n",
       "      <td>-44.854573</td>\n",
       "      <td>-17.385834</td>\n",
       "      <td>-27.773698</td>\n",
       "      <td>-2.900858</td>\n",
       "      <td>0.280483</td>\n",
       "    </tr>\n",
       "    <tr>\n",
       "      <th>1</th>\n",
       "      <td>4.377977</td>\n",
       "      <td>-53.520011</td>\n",
       "      <td>-11.435258</td>\n",
       "      <td>5.623700</td>\n",
       "      <td>0.191986</td>\n",
       "    </tr>\n",
       "    <tr>\n",
       "      <th>2</th>\n",
       "      <td>159.446127</td>\n",
       "      <td>-2.673019</td>\n",
       "      <td>-16.554409</td>\n",
       "      <td>-22.837595</td>\n",
       "      <td>-1.831227</td>\n",
       "    </tr>\n",
       "    <tr>\n",
       "      <th>3</th>\n",
       "      <td>371.805198</td>\n",
       "      <td>-21.089323</td>\n",
       "      <td>12.213330</td>\n",
       "      <td>76.217334</td>\n",
       "      <td>-1.340131</td>\n",
       "    </tr>\n",
       "    <tr>\n",
       "      <th>4</th>\n",
       "      <td>3.584537</td>\n",
       "      <td>-11.842328</td>\n",
       "      <td>27.298125</td>\n",
       "      <td>-5.848082</td>\n",
       "      <td>-2.153240</td>\n",
       "    </tr>\n",
       "  </tbody>\n",
       "</table>\n",
       "</div>"
      ],
      "text/plain": [
       "          pc1        pc2        pc3        pc4       pc5\n",
       "0  -44.854573 -17.385834 -27.773698  -2.900858  0.280483\n",
       "1    4.377977 -53.520011 -11.435258   5.623700  0.191986\n",
       "2  159.446127  -2.673019 -16.554409 -22.837595 -1.831227\n",
       "3  371.805198 -21.089323  12.213330  76.217334 -1.340131\n",
       "4    3.584537 -11.842328  27.298125  -5.848082 -2.153240"
      ]
     },
     "execution_count": 10,
     "metadata": {},
     "output_type": "execute_result"
    }
   ],
   "source": [
    "feat_pca = pca.transform(features)\n",
    "feat_pca_df = pd.DataFrame(feat_pca, columns=pc_labels)\n",
    "feat_pca_df.head()"
   ]
  },
  {
   "cell_type": "markdown",
   "metadata": {},
   "source": [
    "Confirmamos que en la nueva representación las características no están correladas"
   ]
  },
  {
   "cell_type": "code",
   "execution_count": 11,
   "metadata": {},
   "outputs": [
    {
     "data": {
      "text/html": [
       "<div>\n",
       "<style scoped>\n",
       "    .dataframe tbody tr th:only-of-type {\n",
       "        vertical-align: middle;\n",
       "    }\n",
       "\n",
       "    .dataframe tbody tr th {\n",
       "        vertical-align: top;\n",
       "    }\n",
       "\n",
       "    .dataframe thead th {\n",
       "        text-align: right;\n",
       "    }\n",
       "</style>\n",
       "<table border=\"1\" class=\"dataframe\">\n",
       "  <thead>\n",
       "    <tr style=\"text-align: right;\">\n",
       "      <th></th>\n",
       "      <th>pc1</th>\n",
       "      <th>pc2</th>\n",
       "      <th>pc3</th>\n",
       "      <th>pc4</th>\n",
       "      <th>pc5</th>\n",
       "    </tr>\n",
       "  </thead>\n",
       "  <tbody>\n",
       "    <tr>\n",
       "      <th>pc1</th>\n",
       "      <td>1.0</td>\n",
       "      <td>-0.0</td>\n",
       "      <td>0.0</td>\n",
       "      <td>0.0</td>\n",
       "      <td>0.0</td>\n",
       "    </tr>\n",
       "    <tr>\n",
       "      <th>pc2</th>\n",
       "      <td>-0.0</td>\n",
       "      <td>1.0</td>\n",
       "      <td>-0.0</td>\n",
       "      <td>0.0</td>\n",
       "      <td>-0.0</td>\n",
       "    </tr>\n",
       "    <tr>\n",
       "      <th>pc3</th>\n",
       "      <td>0.0</td>\n",
       "      <td>-0.0</td>\n",
       "      <td>1.0</td>\n",
       "      <td>0.0</td>\n",
       "      <td>-0.0</td>\n",
       "    </tr>\n",
       "    <tr>\n",
       "      <th>pc4</th>\n",
       "      <td>0.0</td>\n",
       "      <td>0.0</td>\n",
       "      <td>0.0</td>\n",
       "      <td>1.0</td>\n",
       "      <td>0.0</td>\n",
       "    </tr>\n",
       "    <tr>\n",
       "      <th>pc5</th>\n",
       "      <td>0.0</td>\n",
       "      <td>-0.0</td>\n",
       "      <td>-0.0</td>\n",
       "      <td>0.0</td>\n",
       "      <td>1.0</td>\n",
       "    </tr>\n",
       "  </tbody>\n",
       "</table>\n",
       "</div>"
      ],
      "text/plain": [
       "     pc1  pc2  pc3  pc4  pc5\n",
       "pc1  1.0 -0.0  0.0  0.0  0.0\n",
       "pc2 -0.0  1.0 -0.0  0.0 -0.0\n",
       "pc3  0.0 -0.0  1.0  0.0 -0.0\n",
       "pc4  0.0  0.0  0.0  1.0  0.0\n",
       "pc5  0.0 -0.0 -0.0  0.0  1.0"
      ]
     },
     "execution_count": 11,
     "metadata": {},
     "output_type": "execute_result"
    }
   ],
   "source": [
    "feat_pca_df.corr().round(3)"
   ]
  },
  {
   "cell_type": "code",
   "execution_count": 12,
   "metadata": {},
   "outputs": [
    {
     "data": {
      "text/html": [
       "<div>\n",
       "<style scoped>\n",
       "    .dataframe tbody tr th:only-of-type {\n",
       "        vertical-align: middle;\n",
       "    }\n",
       "\n",
       "    .dataframe tbody tr th {\n",
       "        vertical-align: top;\n",
       "    }\n",
       "\n",
       "    .dataframe thead th {\n",
       "        text-align: right;\n",
       "    }\n",
       "</style>\n",
       "<table border=\"1\" class=\"dataframe\">\n",
       "  <thead>\n",
       "    <tr style=\"text-align: right;\">\n",
       "      <th></th>\n",
       "      <th>WC/TA</th>\n",
       "      <th>RE/TA</th>\n",
       "      <th>EBIT/TA</th>\n",
       "      <th>S/TA</th>\n",
       "      <th>BVE/BVL</th>\n",
       "    </tr>\n",
       "  </thead>\n",
       "  <tbody>\n",
       "    <tr>\n",
       "      <th>WC/TA</th>\n",
       "      <td>1.000</td>\n",
       "      <td>0.315</td>\n",
       "      <td>-0.004</td>\n",
       "      <td>-0.164</td>\n",
       "      <td>0.114</td>\n",
       "    </tr>\n",
       "    <tr>\n",
       "      <th>RE/TA</th>\n",
       "      <td>0.315</td>\n",
       "      <td>1.000</td>\n",
       "      <td>0.549</td>\n",
       "      <td>0.133</td>\n",
       "      <td>0.066</td>\n",
       "    </tr>\n",
       "    <tr>\n",
       "      <th>EBIT/TA</th>\n",
       "      <td>-0.004</td>\n",
       "      <td>0.549</td>\n",
       "      <td>1.000</td>\n",
       "      <td>0.084</td>\n",
       "      <td>0.071</td>\n",
       "    </tr>\n",
       "    <tr>\n",
       "      <th>S/TA</th>\n",
       "      <td>-0.164</td>\n",
       "      <td>0.133</td>\n",
       "      <td>0.084</td>\n",
       "      <td>1.000</td>\n",
       "      <td>-0.054</td>\n",
       "    </tr>\n",
       "    <tr>\n",
       "      <th>BVE/BVL</th>\n",
       "      <td>0.114</td>\n",
       "      <td>0.066</td>\n",
       "      <td>0.071</td>\n",
       "      <td>-0.054</td>\n",
       "      <td>1.000</td>\n",
       "    </tr>\n",
       "  </tbody>\n",
       "</table>\n",
       "</div>"
      ],
      "text/plain": [
       "         WC/TA  RE/TA  EBIT/TA   S/TA  BVE/BVL\n",
       "WC/TA    1.000  0.315   -0.004 -0.164    0.114\n",
       "RE/TA    0.315  1.000    0.549  0.133    0.066\n",
       "EBIT/TA -0.004  0.549    1.000  0.084    0.071\n",
       "S/TA    -0.164  0.133    0.084  1.000   -0.054\n",
       "BVE/BVL  0.114  0.066    0.071 -0.054    1.000"
      ]
     },
     "execution_count": 12,
     "metadata": {},
     "output_type": "execute_result"
    }
   ],
   "source": [
    "features.corr().round(3)"
   ]
  },
  {
   "cell_type": "markdown",
   "metadata": {},
   "source": [
    "___"
   ]
  },
  {
   "cell_type": "markdown",
   "metadata": {},
   "source": [
    "### Reducción de dimensiones \n",
    "En este caso seleccionamos solo 2 componentes para \n",
    "hacer una representación gráfica de los datos\n"
   ]
  },
  {
   "cell_type": "code",
   "execution_count": 13,
   "metadata": {},
   "outputs": [],
   "source": [
    "pca2 = PCA(n_components=2)"
   ]
  },
  {
   "cell_type": "code",
   "execution_count": 14,
   "metadata": {},
   "outputs": [],
   "source": [
    "pca_feat = pca2.fit_transform(features)"
   ]
  },
  {
   "cell_type": "code",
   "execution_count": 15,
   "metadata": {},
   "outputs": [],
   "source": [
    "pca_feat_df = pd.DataFrame(pca_feat,\n",
    "                           columns=['PC1','PC2'],\n",
    "                           index=features.index)\n"
   ]
  },
  {
   "cell_type": "code",
   "execution_count": 16,
   "metadata": {},
   "outputs": [
    {
     "data": {
      "text/html": [
       "<div>\n",
       "<style scoped>\n",
       "    .dataframe tbody tr th:only-of-type {\n",
       "        vertical-align: middle;\n",
       "    }\n",
       "\n",
       "    .dataframe tbody tr th {\n",
       "        vertical-align: top;\n",
       "    }\n",
       "\n",
       "    .dataframe thead th {\n",
       "        text-align: right;\n",
       "    }\n",
       "</style>\n",
       "<table border=\"1\" class=\"dataframe\">\n",
       "  <thead>\n",
       "    <tr style=\"text-align: right;\">\n",
       "      <th></th>\n",
       "      <th>PC1</th>\n",
       "      <th>PC2</th>\n",
       "    </tr>\n",
       "    <tr>\n",
       "      <th>Company</th>\n",
       "      <th></th>\n",
       "      <th></th>\n",
       "    </tr>\n",
       "  </thead>\n",
       "  <tbody>\n",
       "    <tr>\n",
       "      <th>360Networks</th>\n",
       "      <td>-44.854573</td>\n",
       "      <td>-17.385834</td>\n",
       "    </tr>\n",
       "    <tr>\n",
       "      <th>Advanced Radio Telecom</th>\n",
       "      <td>4.377977</td>\n",
       "      <td>-53.520011</td>\n",
       "    </tr>\n",
       "    <tr>\n",
       "      <th>Ardent Communications</th>\n",
       "      <td>159.446127</td>\n",
       "      <td>-2.673019</td>\n",
       "    </tr>\n",
       "    <tr>\n",
       "      <th>At Home Corp.</th>\n",
       "      <td>371.805198</td>\n",
       "      <td>-21.089323</td>\n",
       "    </tr>\n",
       "    <tr>\n",
       "      <th>Convergent Communications</th>\n",
       "      <td>3.584537</td>\n",
       "      <td>-11.842328</td>\n",
       "    </tr>\n",
       "  </tbody>\n",
       "</table>\n",
       "</div>"
      ],
      "text/plain": [
       "                                  PC1        PC2\n",
       "Company                                         \n",
       "360Networks                -44.854573 -17.385834\n",
       "Advanced Radio Telecom       4.377977 -53.520011\n",
       "Ardent Communications      159.446127  -2.673019\n",
       "At Home Corp.              371.805198 -21.089323\n",
       "Convergent Communications    3.584537 -11.842328"
      ]
     },
     "execution_count": 16,
     "metadata": {},
     "output_type": "execute_result"
    }
   ],
   "source": [
    "pca_feat_df.head()"
   ]
  },
  {
   "cell_type": "code",
   "execution_count": 17,
   "metadata": {},
   "outputs": [
    {
     "data": {
      "text/plain": [
       "Text(0, 0.5, 'PC2')"
      ]
     },
     "execution_count": 17,
     "metadata": {},
     "output_type": "execute_result"
    },
    {
     "data": {
      "image/png": "[encoded data removed]",
      "text/plain": [
       "<Figure size 432x432 with 1 Axes>"
      ]
     },
     "metadata": {
      "needs_background": "light"
     },
     "output_type": "display_data"
    }
   ],
   "source": [
    "x_no = pca_feat_df[target == 'no']\n",
    "x_yes = pca_feat_df[target == 'yes']\n",
    "\n",
    "fig, ax = plt.subplots(figsize=(6,6))\n",
    "ax.scatter(x_no.PC1, x_no.PC2)\n",
    "ax.scatter(x_yes.PC1, x_yes.PC2)\n",
    "\n",
    "ax.set_xlabel('PC1')\n",
    "ax.set_ylabel('PC2')\n"
   ]
  },
  {
   "cell_type": "markdown",
   "metadata": {},
   "source": [
    "\n",
    "____"
   ]
  },
  {
   "cell_type": "code",
   "execution_count": null,
   "metadata": {},
   "outputs": [],
   "source": []
  }
 ],
 "metadata": {
  "interpreter": {
   "hash": "408b48951804fa4b88b53768b37306a6cb2325d714da557f064422e7ef20b71a"
  },
  "kernelspec": {
   "display_name": "Python 3.8.8 ('base')",
   "language": "python",
   "name": "python3"
  },
  "language_info": {
   "codemirror_mode": {
    "name": "ipython",
    "version": 3
   },
   "file_extension": ".py",
   "mimetype": "text/x-python",
   "name": "python",
   "nbconvert_exporter": "python",
   "pygments_lexer": "ipython3",
   "version": "3.8.8"
  }
 },
 "nbformat": 4,
 "nbformat_minor": 4
}
